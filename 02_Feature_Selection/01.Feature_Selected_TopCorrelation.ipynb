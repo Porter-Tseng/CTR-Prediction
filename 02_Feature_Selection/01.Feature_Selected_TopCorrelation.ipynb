{
 "cells": [
  {
   "cell_type": "markdown",
   "metadata": {},
   "source": [
    "## <span style=\"color:grey; font-weight:bold;\">Import Tools and Def Functions</span>"
   ]
  },
  {
   "cell_type": "code",
   "execution_count": null,
   "metadata": {},
   "outputs": [],
   "source": [
    "import pandas as pd\n",
    "import importlib\n",
    "import os\n",
    "\n",
    "pd.set_option(\"display.float_format\", \"{:.2f}\".format)\n",
    "\n",
    "def_path = \"/Users/porter/Desktop/01.Data Science/Porter - Project/05 - Advertising Challenge - Data Analysis\"\n",
    "os.chdir(def_path)\n",
    "import Def_Function\n",
    "importlib.reload(Def_Function)\n",
    "ed = Def_Function.EDAFunction()\n",
    "\n",
    "data_path = \"/Users/porter/Desktop/01.Data Science/Porter - Project/05 - Advertising Challenge - Data Analysis/00_Data/Filled Chunk\"\n",
    "os.chdir(data_path)"
   ]
  },
  {
   "cell_type": "markdown",
   "metadata": {},
   "source": [
    "## <span style=\"color:grey; font-weight:bold;\">Feature Selected</span>"
   ]
  },
  {
   "cell_type": "code",
   "execution_count": 2,
   "metadata": {},
   "outputs": [],
   "source": [
    "data = pd.read_csv(\"Filled All Chunk.csv\", sep=\",\")"
   ]
  },
  {
   "cell_type": "code",
   "execution_count": 3,
   "metadata": {},
   "outputs": [
    {
     "data": {
      "text/plain": [
       "(20945536, 38)"
      ]
     },
     "execution_count": 3,
     "metadata": {},
     "output_type": "execute_result"
    }
   ],
   "source": [
    "data.shape"
   ]
  },
  {
   "cell_type": "code",
   "execution_count": 7,
   "metadata": {},
   "outputs": [
    {
     "name": "stdout",
     "output_type": "stream",
     "text": [
      "Predicted\n",
      "0.00    75.15%\n",
      "1.00    24.85%\n",
      "Name: proportion, dtype: object\n"
     ]
    }
   ],
   "source": [
    "ed.LabelValueCount(data, target=\"Predicted\")"
   ]
  },
  {
   "cell_type": "markdown",
   "metadata": {},
   "source": [
    "## <span style=\"color:grey; font-weight:bold;\">Top Percent of Correlation of All Columns</span>"
   ]
  },
  {
   "cell_type": "code",
   "execution_count": 3,
   "metadata": {},
   "outputs": [
    {
     "name": "stdout",
     "output_type": "stream",
     "text": [
      "Top 70% Correlated Feature: ['6', '11', '7', '5', '13', '1', '3', '30', '10', '4', '22', '27', '8', '33', '15', '32', '17', '2', '38', '23', '25', '19', '9', '20', '37']\n",
      "\n",
      "Top 60% Correlated Feature: ['6', '11', '7', '5', '13', '1', '3', '30', '10', '4', '22', '27', '8', '33', '15', '32', '17', '2', '38', '23', '25', '19']\n",
      "\n",
      "Top 50% Correlated Feature: ['6', '11', '7', '5', '13', '1', '3', '30', '10', '4', '22', '27', '8', '33', '15', '32', '17', '2']\n",
      "\n",
      "Top 40% Correlated Feature: ['6', '11', '7', '5', '13', '1', '3', '30', '10', '4', '22', '27', '8', '33']\n",
      "\n",
      "Top 30% Correlated Feature: ['6', '11', '7', '5', '13', '1', '3', '30', '10', '4', '22']\n",
      "\n",
      "Top 25% Correlated Feature: ['6', '11', '7', '5', '13', '1', '3', '30', '10']\n",
      "\n"
     ]
    }
   ],
   "source": [
    "result, sorted_dfs = ed.SelectTopCorrFeature(data, \"Predicted\", top_percent=[0.7, 0.6, 0.5, 0.4, 0.3, 0.25])"
   ]
  },
  {
   "cell_type": "code",
   "execution_count": 9,
   "metadata": {},
   "outputs": [
    {
     "data": {
      "text/plain": [
       "26"
      ]
     },
     "execution_count": 9,
     "metadata": {},
     "output_type": "execute_result"
    }
   ],
   "source": [
    "len(sorted_dfs[0.7].columns)"
   ]
  },
  {
   "cell_type": "code",
   "execution_count": 6,
   "metadata": {},
   "outputs": [
    {
     "data": {
      "text/plain": [
       "(20945536, 26)"
      ]
     },
     "execution_count": 6,
     "metadata": {},
     "output_type": "execute_result"
    }
   ],
   "source": [
    "sorted_dfs[0.7].shape"
   ]
  },
  {
   "cell_type": "code",
   "execution_count": 8,
   "metadata": {},
   "outputs": [
    {
     "name": "stdout",
     "output_type": "stream",
     "text": [
      "Predicted\n",
      "0.00    75.15%\n",
      "1.00    24.85%\n",
      "Name: proportion, dtype: object\n"
     ]
    }
   ],
   "source": [
    "ed.LabelValueCount(sorted_dfs[0.7], target=\"Predicted\")"
   ]
  },
  {
   "cell_type": "code",
   "execution_count": 6,
   "metadata": {},
   "outputs": [
    {
     "name": "stdout",
     "output_type": "stream",
     "text": [
      "Saved Top70AllColumnsFeature\n",
      "Saved Top60AllColumnsFeature\n",
      "Saved Top50AllColumnsFeature\n",
      "Saved Top40AllColumnsFeature\n",
      "Saved Top30AllColumnsFeature\n",
      "Saved Top25AllColumnsFeature\n"
     ]
    }
   ],
   "source": [
    "ed.SaveCSV(sorted_dfs[0.7], \"Top70AllColumnsFeature\")\n",
    "ed.SaveCSV(sorted_dfs[0.6], \"Top60AllColumnsFeature\")\n",
    "ed.SaveCSV(sorted_dfs[0.5], \"Top50AllColumnsFeature\")\n",
    "ed.SaveCSV(sorted_dfs[0.4], \"Top40AllColumnsFeature\")\n",
    "ed.SaveCSV(sorted_dfs[0.3], \"Top30AllColumnsFeature\")\n",
    "ed.SaveCSV(sorted_dfs[0.25], \"Top25AllColumnsFeature\")"
   ]
  },
  {
   "cell_type": "code",
   "execution_count": 9,
   "metadata": {},
   "outputs": [
    {
     "name": "stdout",
     "output_type": "stream",
     "text": [
      "Top 90% Correlated Feature: ['6', '11', '7', '5', '13', '1', '3', '30', '10', '4', '22', '27', '8', '33', '15', '32', '17', '2', '38', '23', '25', '19', '9', '20', '37', '31', '28', '34', '26', '24', '36', '29', '39']\n",
      "\n",
      "Top 80% Correlated Feature: ['6', '11', '7', '5', '13', '1', '3', '30', '10', '4', '22', '27', '8', '33', '15', '32', '17', '2', '38', '23', '25', '19', '9', '20', '37', '31', '28', '34', '26']\n",
      "\n"
     ]
    }
   ],
   "source": [
    "result2, sorted_dfs2 = ed.SelectTopCorrFeature(data, \"Predicted\", top_percent=[0.9, 0.8])"
   ]
  },
  {
   "cell_type": "code",
   "execution_count": 32,
   "metadata": {},
   "outputs": [
    {
     "name": "stdout",
     "output_type": "stream",
     "text": [
      "Saved Top90AllColumnsFeature\n",
      "Saved Top80AllColumnsFeature\n"
     ]
    }
   ],
   "source": [
    "ed.SaveCSV(sorted_dfs2[0.9], \"Top90AllColumnsFeature\")\n",
    "ed.SaveCSV(sorted_dfs2[0.8], \"Top80AllColumnsFeature\")"
   ]
  },
  {
   "cell_type": "markdown",
   "metadata": {},
   "source": [
    "## <span style=\"color:grey; font-weight:bold;\">Top Correlation of Both Types of Columns</span>"
   ]
  },
  {
   "cell_type": "code",
   "execution_count": 7,
   "metadata": {},
   "outputs": [
    {
     "data": {
      "text/plain": [
       "6    0.22\n",
       "11   0.21\n",
       "7    0.20\n",
       "5    0.17\n",
       "13   0.14\n",
       "1    0.12\n",
       "3    0.12\n",
       "10   0.08\n",
       "4    0.06\n",
       "8    0.05\n",
       "2    0.02\n",
       "9    0.01\n",
       "Name: Predicted, dtype: float64"
      ]
     },
     "execution_count": 7,
     "metadata": {},
     "output_type": "execute_result"
    }
   ],
   "source": [
    "numeric_corr = (\n",
    "    data.iloc[:, 0:13]\n",
    "    .corr(method=\"spearman\")\n",
    "    .abs()\n",
    ")\n",
    "numeric_sort = numeric_corr[\"Predicted\"].drop(\"Predicted\").sort_values(ascending=False)\n",
    "numeric_sort"
   ]
  },
  {
   "cell_type": "code",
   "execution_count": 8,
   "metadata": {},
   "outputs": [
    {
     "data": {
      "text/plain": [
       "30   0.09\n",
       "22   0.06\n",
       "27   0.06\n",
       "33   0.05\n",
       "15   0.03\n",
       "32   0.02\n",
       "17   0.02\n",
       "38   0.02\n",
       "23   0.01\n",
       "25   0.01\n",
       "19   0.01\n",
       "20   0.01\n",
       "37   0.01\n",
       "31   0.01\n",
       "28   0.00\n",
       "34   0.00\n",
       "26   0.00\n",
       "24   0.00\n",
       "36   0.00\n",
       "29   0.00\n",
       "39   0.00\n",
       "16   0.00\n",
       "21   0.00\n",
       "18   0.00\n",
       "Name: Predicted, dtype: float64"
      ]
     },
     "execution_count": 8,
     "metadata": {},
     "output_type": "execute_result"
    }
   ],
   "source": [
    "objective_col = [\"Predicted\"] + list(data.columns[14:38])\n",
    "objective_corr = (\n",
    "    data[objective_col]\n",
    "    .corr(method=\"spearman\")\n",
    "    .abs()\n",
    ")\n",
    "objective_sort = objective_corr[\"Predicted\"].drop(\"Predicted\").sort_values(ascending=False)\n",
    "objective_sort"
   ]
  },
  {
   "cell_type": "code",
   "execution_count": 6,
   "metadata": {},
   "outputs": [],
   "source": [
    "numeric_top10 = list(numeric_sort.head(10).keys())\n",
    "numeric_top10_sorted = sorted(numeric_top10, key=int)\n",
    "data_numeric_top10 = data[numeric_top10_sorted]\n",
    "\n",
    "numeric_top8 = list(numeric_sort.head(8).keys())\n",
    "numeric_top8_sorted = sorted(numeric_top8, key=int)\n",
    "data_numeric_top8 = data[numeric_top8_sorted]\n",
    "\n",
    "numeric_top6 = list(numeric_sort.head(6).keys())\n",
    "numeric_top6_sorted = sorted(numeric_top6, key=int)\n",
    "data_numeric_top6 = data[numeric_top6_sorted]\n",
    "\n",
    "numeric_top4 = list(numeric_sort.head(4).keys())\n",
    "numeric_top4_sorted = sorted(numeric_top4, key=int)\n",
    "data_numeric_top4 = data[numeric_top4_sorted]"
   ]
  },
  {
   "cell_type": "code",
   "execution_count": 7,
   "metadata": {},
   "outputs": [],
   "source": [
    "objective_top5 = list(objective_sort.head(5).keys())\n",
    "objective_top5_sorted = sorted(objective_top5, key=int)\n",
    "data_obj_top5 = data[objective_top5_sorted]\n",
    "\n",
    "objective_top3 = list(objective_sort.head(3).keys())\n",
    "objective_top3_sorted = sorted(objective_top3, key=int)\n",
    "data_obj_top3 = data[objective_top3_sorted]"
   ]
  },
  {
   "cell_type": "code",
   "execution_count": 8,
   "metadata": {},
   "outputs": [],
   "source": [
    "top10and5columns_bothtype = pd.concat([data[\"Predicted\"], data_numeric_top10, data_obj_top5], axis=1)\n",
    "top10and3columns_bothtype = pd.concat([data[\"Predicted\"], data_numeric_top10, data_obj_top3], axis=1)\n",
    "top8and5columns_bothtype = pd.concat([data[\"Predicted\"], data_numeric_top8, data_obj_top5], axis=1)\n",
    "top8and3columns_bothtype = pd.concat([data[\"Predicted\"], data_numeric_top8, data_obj_top3], axis=1)\n",
    "top6and5columns_bothtype = pd.concat([data[\"Predicted\"], data_numeric_top6, data_obj_top5], axis=1)\n",
    "top6and3columns_bothtype = pd.concat([data[\"Predicted\"], data_numeric_top6, data_obj_top3], axis=1)\n",
    "top4and5columns_bothtype = pd.concat([data[\"Predicted\"], data_numeric_top4, data_obj_top5], axis=1)\n",
    "top4and3columns_bothtype = pd.concat([data[\"Predicted\"], data_numeric_top4, data_obj_top3], axis=1)"
   ]
  },
  {
   "cell_type": "code",
   "execution_count": 63,
   "metadata": {},
   "outputs": [
    {
     "name": "stdout",
     "output_type": "stream",
     "text": [
      "Saved Num10andObj5_Feature\n",
      "Saved Num10andObj3_Feature\n",
      "Saved Num8andObj5_Feature\n",
      "Saved Num8andObj3_Feature\n",
      "Saved Num6andObj5_Feature\n",
      "Saved Num6andObj3_Feature\n",
      "Saved Num4andObj5_Feature\n",
      "Saved Num4andObj3_Feature\n"
     ]
    }
   ],
   "source": [
    "ed.SaveCSV(top10and5columns_bothtype, \"Num10andObj5_Feature\")\n",
    "ed.SaveCSV(top10and3columns_bothtype, \"Num10andObj3_Feature\")\n",
    "ed.SaveCSV(top8and5columns_bothtype, \"Num8andObj5_Feature\")\n",
    "ed.SaveCSV(top8and3columns_bothtype, \"Num8andObj3_Feature\")\n",
    "ed.SaveCSV(top6and5columns_bothtype, \"Num6andObj5_Feature\")\n",
    "ed.SaveCSV(top6and3columns_bothtype, \"Num6andObj3_Feature\")\n",
    "ed.SaveCSV(top4and5columns_bothtype, \"Num4andObj5_Feature\")\n",
    "ed.SaveCSV(top4and3columns_bothtype, \"Num4andObj3_Feature\")"
   ]
  },
  {
   "cell_type": "code",
   "execution_count": 29,
   "metadata": {},
   "outputs": [
    {
     "data": {
      "text/plain": [
       "Index(['1', '2', '3', '4', '5', '6', '7', '8', '9', '10', '11', '13'], dtype='object')"
      ]
     },
     "execution_count": 29,
     "metadata": {},
     "output_type": "execute_result"
    }
   ],
   "source": [
    "numeric_col = data.iloc[:, 1:13].columns\n",
    "numeric_col"
   ]
  },
  {
   "cell_type": "code",
   "execution_count": 26,
   "metadata": {},
   "outputs": [
    {
     "data": {
      "text/plain": [
       "['15', '17', '19', '22', '23', '25', '27', '30', '32', '33', '38']"
      ]
     },
     "execution_count": 26,
     "metadata": {},
     "output_type": "execute_result"
    }
   ],
   "source": [
    "corr_selected = sorted(objective_sort[objective_sort>0.01].index.tolist(), key=int)\n",
    "corr_selected"
   ]
  },
  {
   "cell_type": "code",
   "execution_count": 35,
   "metadata": {},
   "outputs": [
    {
     "data": {
      "text/html": [
       "<div>\n",
       "<style scoped>\n",
       "    .dataframe tbody tr th:only-of-type {\n",
       "        vertical-align: middle;\n",
       "    }\n",
       "\n",
       "    .dataframe tbody tr th {\n",
       "        vertical-align: top;\n",
       "    }\n",
       "\n",
       "    .dataframe thead th {\n",
       "        text-align: right;\n",
       "    }\n",
       "</style>\n",
       "<table border=\"1\" class=\"dataframe\">\n",
       "  <thead>\n",
       "    <tr style=\"text-align: right;\">\n",
       "      <th></th>\n",
       "      <th>Predicted</th>\n",
       "      <th>1</th>\n",
       "      <th>2</th>\n",
       "      <th>3</th>\n",
       "      <th>4</th>\n",
       "      <th>5</th>\n",
       "      <th>6</th>\n",
       "      <th>7</th>\n",
       "      <th>8</th>\n",
       "      <th>9</th>\n",
       "      <th>...</th>\n",
       "      <th>17</th>\n",
       "      <th>19</th>\n",
       "      <th>22</th>\n",
       "      <th>23</th>\n",
       "      <th>25</th>\n",
       "      <th>27</th>\n",
       "      <th>30</th>\n",
       "      <th>32</th>\n",
       "      <th>33</th>\n",
       "      <th>38</th>\n",
       "    </tr>\n",
       "  </thead>\n",
       "  <tbody>\n",
       "    <tr>\n",
       "      <th>0</th>\n",
       "      <td>0.00</td>\n",
       "      <td>0.52</td>\n",
       "      <td>0.14</td>\n",
       "      <td>0.64</td>\n",
       "      <td>0.15</td>\n",
       "      <td>0.20</td>\n",
       "      <td>0.14</td>\n",
       "      <td>0.26</td>\n",
       "      <td>0.21</td>\n",
       "      <td>0.14</td>\n",
       "      <td>...</td>\n",
       "      <td>3736</td>\n",
       "      <td>11</td>\n",
       "      <td>2</td>\n",
       "      <td>52546</td>\n",
       "      <td>538168</td>\n",
       "      <td>9</td>\n",
       "      <td>0</td>\n",
       "      <td>1238</td>\n",
       "      <td>0</td>\n",
       "      <td>72</td>\n",
       "    </tr>\n",
       "    <tr>\n",
       "      <th>1</th>\n",
       "      <td>0.00</td>\n",
       "      <td>0.37</td>\n",
       "      <td>0.18</td>\n",
       "      <td>0.85</td>\n",
       "      <td>0.00</td>\n",
       "      <td>0.62</td>\n",
       "      <td>0.23</td>\n",
       "      <td>0.00</td>\n",
       "      <td>0.36</td>\n",
       "      <td>0.38</td>\n",
       "      <td>...</td>\n",
       "      <td>116455</td>\n",
       "      <td>18</td>\n",
       "      <td>0</td>\n",
       "      <td>2602</td>\n",
       "      <td>1087860</td>\n",
       "      <td>9</td>\n",
       "      <td>5</td>\n",
       "      <td>1238</td>\n",
       "      <td>0</td>\n",
       "      <td>75</td>\n",
       "    </tr>\n",
       "    <tr>\n",
       "      <th>2</th>\n",
       "      <td>0.00</td>\n",
       "      <td>0.00</td>\n",
       "      <td>0.40</td>\n",
       "      <td>0.70</td>\n",
       "      <td>0.34</td>\n",
       "      <td>0.41</td>\n",
       "      <td>0.22</td>\n",
       "      <td>0.17</td>\n",
       "      <td>0.32</td>\n",
       "      <td>0.19</td>\n",
       "      <td>...</td>\n",
       "      <td>54278</td>\n",
       "      <td>1</td>\n",
       "      <td>2</td>\n",
       "      <td>50096</td>\n",
       "      <td>295300</td>\n",
       "      <td>20</td>\n",
       "      <td>4</td>\n",
       "      <td>1238</td>\n",
       "      <td>2</td>\n",
       "      <td>72</td>\n",
       "    </tr>\n",
       "    <tr>\n",
       "      <th>3</th>\n",
       "      <td>1.00</td>\n",
       "      <td>0.37</td>\n",
       "      <td>0.69</td>\n",
       "      <td>0.40</td>\n",
       "      <td>0.24</td>\n",
       "      <td>0.20</td>\n",
       "      <td>0.07</td>\n",
       "      <td>0.17</td>\n",
       "      <td>0.21</td>\n",
       "      <td>0.09</td>\n",
       "      <td>...</td>\n",
       "      <td>7204</td>\n",
       "      <td>18</td>\n",
       "      <td>2</td>\n",
       "      <td>2602</td>\n",
       "      <td>580469</td>\n",
       "      <td>12</td>\n",
       "      <td>8</td>\n",
       "      <td>1238</td>\n",
       "      <td>2</td>\n",
       "      <td>0</td>\n",
       "    </tr>\n",
       "    <tr>\n",
       "      <th>4</th>\n",
       "      <td>0.00</td>\n",
       "      <td>0.00</td>\n",
       "      <td>0.34</td>\n",
       "      <td>0.34</td>\n",
       "      <td>0.24</td>\n",
       "      <td>0.37</td>\n",
       "      <td>0.17</td>\n",
       "      <td>0.42</td>\n",
       "      <td>0.51</td>\n",
       "      <td>0.41</td>\n",
       "      <td>...</td>\n",
       "      <td>248701</td>\n",
       "      <td>9</td>\n",
       "      <td>2</td>\n",
       "      <td>43735</td>\n",
       "      <td>187581</td>\n",
       "      <td>20</td>\n",
       "      <td>9</td>\n",
       "      <td>1238</td>\n",
       "      <td>2</td>\n",
       "      <td>75</td>\n",
       "    </tr>\n",
       "    <tr>\n",
       "      <th>...</th>\n",
       "      <td>...</td>\n",
       "      <td>...</td>\n",
       "      <td>...</td>\n",
       "      <td>...</td>\n",
       "      <td>...</td>\n",
       "      <td>...</td>\n",
       "      <td>...</td>\n",
       "      <td>...</td>\n",
       "      <td>...</td>\n",
       "      <td>...</td>\n",
       "      <td>...</td>\n",
       "      <td>...</td>\n",
       "      <td>...</td>\n",
       "      <td>...</td>\n",
       "      <td>...</td>\n",
       "      <td>...</td>\n",
       "      <td>...</td>\n",
       "      <td>...</td>\n",
       "      <td>...</td>\n",
       "      <td>...</td>\n",
       "      <td>...</td>\n",
       "    </tr>\n",
       "    <tr>\n",
       "      <th>20945531</th>\n",
       "      <td>0.00</td>\n",
       "      <td>0.38</td>\n",
       "      <td>0.31</td>\n",
       "      <td>0.52</td>\n",
       "      <td>0.31</td>\n",
       "      <td>0.42</td>\n",
       "      <td>0.30</td>\n",
       "      <td>0.00</td>\n",
       "      <td>0.45</td>\n",
       "      <td>0.43</td>\n",
       "      <td>...</td>\n",
       "      <td>2074501</td>\n",
       "      <td>40</td>\n",
       "      <td>5</td>\n",
       "      <td>54080</td>\n",
       "      <td>5887323</td>\n",
       "      <td>44</td>\n",
       "      <td>13</td>\n",
       "      <td>1469</td>\n",
       "      <td>3</td>\n",
       "      <td>183</td>\n",
       "    </tr>\n",
       "    <tr>\n",
       "      <th>20945532</th>\n",
       "      <td>1.00</td>\n",
       "      <td>0.78</td>\n",
       "      <td>0.14</td>\n",
       "      <td>0.58</td>\n",
       "      <td>0.60</td>\n",
       "      <td>0.18</td>\n",
       "      <td>0.35</td>\n",
       "      <td>0.42</td>\n",
       "      <td>0.96</td>\n",
       "      <td>0.34</td>\n",
       "      <td>...</td>\n",
       "      <td>1920888</td>\n",
       "      <td>25</td>\n",
       "      <td>5</td>\n",
       "      <td>84511</td>\n",
       "      <td>1527291</td>\n",
       "      <td>44</td>\n",
       "      <td>8</td>\n",
       "      <td>1469</td>\n",
       "      <td>3</td>\n",
       "      <td>1</td>\n",
       "    </tr>\n",
       "    <tr>\n",
       "      <th>20945533</th>\n",
       "      <td>0.00</td>\n",
       "      <td>0.00</td>\n",
       "      <td>0.26</td>\n",
       "      <td>0.60</td>\n",
       "      <td>0.46</td>\n",
       "      <td>0.40</td>\n",
       "      <td>0.30</td>\n",
       "      <td>0.33</td>\n",
       "      <td>0.61</td>\n",
       "      <td>0.33</td>\n",
       "      <td>...</td>\n",
       "      <td>1446001</td>\n",
       "      <td>40</td>\n",
       "      <td>5</td>\n",
       "      <td>54080</td>\n",
       "      <td>3701004</td>\n",
       "      <td>3</td>\n",
       "      <td>18</td>\n",
       "      <td>3431</td>\n",
       "      <td>4</td>\n",
       "      <td>180</td>\n",
       "    </tr>\n",
       "    <tr>\n",
       "      <th>20945534</th>\n",
       "      <td>0.00</td>\n",
       "      <td>0.38</td>\n",
       "      <td>0.07</td>\n",
       "      <td>0.37</td>\n",
       "      <td>0.34</td>\n",
       "      <td>0.59</td>\n",
       "      <td>0.31</td>\n",
       "      <td>0.15</td>\n",
       "      <td>0.00</td>\n",
       "      <td>0.33</td>\n",
       "      <td>...</td>\n",
       "      <td>79236</td>\n",
       "      <td>42</td>\n",
       "      <td>3</td>\n",
       "      <td>120867</td>\n",
       "      <td>208357</td>\n",
       "      <td>16</td>\n",
       "      <td>8</td>\n",
       "      <td>1347</td>\n",
       "      <td>4</td>\n",
       "      <td>177</td>\n",
       "    </tr>\n",
       "    <tr>\n",
       "      <th>20945535</th>\n",
       "      <td>0.00</td>\n",
       "      <td>0.00</td>\n",
       "      <td>0.31</td>\n",
       "      <td>0.33</td>\n",
       "      <td>0.27</td>\n",
       "      <td>0.46</td>\n",
       "      <td>0.28</td>\n",
       "      <td>0.45</td>\n",
       "      <td>0.41</td>\n",
       "      <td>0.34</td>\n",
       "      <td>...</td>\n",
       "      <td>1456881</td>\n",
       "      <td>42</td>\n",
       "      <td>5</td>\n",
       "      <td>142419</td>\n",
       "      <td>7598351</td>\n",
       "      <td>37</td>\n",
       "      <td>19</td>\n",
       "      <td>3837</td>\n",
       "      <td>3</td>\n",
       "      <td>177</td>\n",
       "    </tr>\n",
       "  </tbody>\n",
       "</table>\n",
       "<p>20945536 rows × 24 columns</p>\n",
       "</div>"
      ],
      "text/plain": [
       "          Predicted    1    2    3    4    5    6    7    8    9  ...  \\\n",
       "0              0.00 0.52 0.14 0.64 0.15 0.20 0.14 0.26 0.21 0.14  ...   \n",
       "1              0.00 0.37 0.18 0.85 0.00 0.62 0.23 0.00 0.36 0.38  ...   \n",
       "2              0.00 0.00 0.40 0.70 0.34 0.41 0.22 0.17 0.32 0.19  ...   \n",
       "3              1.00 0.37 0.69 0.40 0.24 0.20 0.07 0.17 0.21 0.09  ...   \n",
       "4              0.00 0.00 0.34 0.34 0.24 0.37 0.17 0.42 0.51 0.41  ...   \n",
       "...             ...  ...  ...  ...  ...  ...  ...  ...  ...  ...  ...   \n",
       "20945531       0.00 0.38 0.31 0.52 0.31 0.42 0.30 0.00 0.45 0.43  ...   \n",
       "20945532       1.00 0.78 0.14 0.58 0.60 0.18 0.35 0.42 0.96 0.34  ...   \n",
       "20945533       0.00 0.00 0.26 0.60 0.46 0.40 0.30 0.33 0.61 0.33  ...   \n",
       "20945534       0.00 0.38 0.07 0.37 0.34 0.59 0.31 0.15 0.00 0.33  ...   \n",
       "20945535       0.00 0.00 0.31 0.33 0.27 0.46 0.28 0.45 0.41 0.34  ...   \n",
       "\n",
       "               17  19  22      23       25  27  30    32  33   38  \n",
       "0            3736  11   2   52546   538168   9   0  1238   0   72  \n",
       "1          116455  18   0    2602  1087860   9   5  1238   0   75  \n",
       "2           54278   1   2   50096   295300  20   4  1238   2   72  \n",
       "3            7204  18   2    2602   580469  12   8  1238   2    0  \n",
       "4          248701   9   2   43735   187581  20   9  1238   2   75  \n",
       "...           ...  ..  ..     ...      ...  ..  ..   ...  ..  ...  \n",
       "20945531  2074501  40   5   54080  5887323  44  13  1469   3  183  \n",
       "20945532  1920888  25   5   84511  1527291  44   8  1469   3    1  \n",
       "20945533  1446001  40   5   54080  3701004   3  18  3431   4  180  \n",
       "20945534    79236  42   3  120867   208357  16   8  1347   4  177  \n",
       "20945535  1456881  42   5  142419  7598351  37  19  3837   3  177  \n",
       "\n",
       "[20945536 rows x 24 columns]"
      ]
     },
     "execution_count": 35,
     "metadata": {},
     "output_type": "execute_result"
    }
   ],
   "source": [
    "corr_data = pd.concat([data[[\"Predicted\"]], data[numeric_col], data[corr_selected]], axis=1)\n",
    "corr_data"
   ]
  },
  {
   "cell_type": "code",
   "execution_count": 36,
   "metadata": {},
   "outputs": [
    {
     "name": "stdout",
     "output_type": "stream",
     "text": [
      "Saved CorrAllColumnsFeature\n"
     ]
    }
   ],
   "source": [
    "ed.SaveCSV(corr_data, \"CorrAllColumnsFeature\")"
   ]
  }
 ],
 "metadata": {
  "kernelspec": {
   "display_name": "base",
   "language": "python",
   "name": "python3"
  },
  "language_info": {
   "codemirror_mode": {
    "name": "ipython",
    "version": 3
   },
   "file_extension": ".py",
   "mimetype": "text/x-python",
   "name": "python",
   "nbconvert_exporter": "python",
   "pygments_lexer": "ipython3",
   "version": "3.12.3"
  }
 },
 "nbformat": 4,
 "nbformat_minor": 2
}
