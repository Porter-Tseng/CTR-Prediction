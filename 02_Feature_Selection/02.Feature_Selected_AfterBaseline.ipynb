{
 "cells": [
  {
   "cell_type": "markdown",
   "metadata": {},
   "source": [
    "## <span style=\"color:grey; font-weight:bold;\">Import Tools and Def Functions</span>"
   ]
  },
  {
   "cell_type": "code",
   "execution_count": null,
   "metadata": {},
   "outputs": [],
   "source": [
    "import pandas as pd\n",
    "import importlib\n",
    "import os\n",
    "\n",
    "pd.set_option(\"display.float_format\", \"{:.2f}\".format)\n",
    "\n",
    "def_path = \"/Users/porter/Desktop/01.Data Science/Porter - Project/05 - Advertising Challenge - Data Analysis\"\n",
    "os.chdir(def_path)\n",
    "import Def_Function\n",
    "importlib.reload(Def_Function)\n",
    "ed = Def_Function.EDAFunction()\n",
    "\n",
    "data_path = \"/Users/porter/Desktop/01.Data Science/Porter - Project/05 - Advertising Challenge - Data Analysis/00_Data/Filled Chunk\"\n",
    "os.chdir(data_path)"
   ]
  },
  {
   "cell_type": "markdown",
   "metadata": {},
   "source": [
    "## <span style=\"color:grey; font-weight:bold;\">Feature Selected</span>"
   ]
  },
  {
   "cell_type": "code",
   "execution_count": 2,
   "metadata": {},
   "outputs": [],
   "source": [
    "data = pd.read_csv(\"Top70AllColumnsFeature.csv\", sep=\",\")"
   ]
  },
  {
   "cell_type": "code",
   "execution_count": 3,
   "metadata": {},
   "outputs": [
    {
     "data": {
      "text/plain": [
       "(20945536, 26)"
      ]
     },
     "execution_count": 3,
     "metadata": {},
     "output_type": "execute_result"
    }
   ],
   "source": [
    "data.shape"
   ]
  },
  {
   "cell_type": "code",
   "execution_count": 4,
   "metadata": {},
   "outputs": [
    {
     "name": "stdout",
     "output_type": "stream",
     "text": [
      "Predicted\n",
      "0.00    75.15%\n",
      "1.00    24.85%\n",
      "Name: proportion, dtype: object\n"
     ]
    }
   ],
   "source": [
    "ed.LabelValueCount(data, target=\"Predicted\")"
   ]
  },
  {
   "cell_type": "code",
   "execution_count": 5,
   "metadata": {},
   "outputs": [
    {
     "data": {
      "text/html": [
       "<div>\n",
       "<style scoped>\n",
       "    .dataframe tbody tr th:only-of-type {\n",
       "        vertical-align: middle;\n",
       "    }\n",
       "\n",
       "    .dataframe tbody tr th {\n",
       "        vertical-align: top;\n",
       "    }\n",
       "\n",
       "    .dataframe thead th {\n",
       "        text-align: right;\n",
       "    }\n",
       "</style>\n",
       "<table border=\"1\" class=\"dataframe\">\n",
       "  <thead>\n",
       "    <tr style=\"text-align: right;\">\n",
       "      <th></th>\n",
       "      <th>Predicted</th>\n",
       "      <th>1</th>\n",
       "      <th>2</th>\n",
       "      <th>3</th>\n",
       "      <th>4</th>\n",
       "      <th>5</th>\n",
       "      <th>6</th>\n",
       "      <th>7</th>\n",
       "      <th>8</th>\n",
       "      <th>9</th>\n",
       "      <th>...</th>\n",
       "      <th>20</th>\n",
       "      <th>22</th>\n",
       "      <th>23</th>\n",
       "      <th>25</th>\n",
       "      <th>27</th>\n",
       "      <th>30</th>\n",
       "      <th>32</th>\n",
       "      <th>33</th>\n",
       "      <th>37</th>\n",
       "      <th>38</th>\n",
       "    </tr>\n",
       "  </thead>\n",
       "  <tbody>\n",
       "    <tr>\n",
       "      <th>0</th>\n",
       "      <td>0.00</td>\n",
       "      <td>0.52</td>\n",
       "      <td>0.14</td>\n",
       "      <td>0.64</td>\n",
       "      <td>0.15</td>\n",
       "      <td>0.20</td>\n",
       "      <td>0.14</td>\n",
       "      <td>0.26</td>\n",
       "      <td>0.21</td>\n",
       "      <td>0.14</td>\n",
       "      <td>...</td>\n",
       "      <td>8322</td>\n",
       "      <td>2</td>\n",
       "      <td>52546</td>\n",
       "      <td>538168</td>\n",
       "      <td>9</td>\n",
       "      <td>0</td>\n",
       "      <td>1238</td>\n",
       "      <td>0</td>\n",
       "      <td>17176</td>\n",
       "      <td>72</td>\n",
       "    </tr>\n",
       "    <tr>\n",
       "      <th>1</th>\n",
       "      <td>0.00</td>\n",
       "      <td>0.37</td>\n",
       "      <td>0.18</td>\n",
       "      <td>0.85</td>\n",
       "      <td>0.00</td>\n",
       "      <td>0.62</td>\n",
       "      <td>0.23</td>\n",
       "      <td>0.00</td>\n",
       "      <td>0.36</td>\n",
       "      <td>0.38</td>\n",
       "      <td>...</td>\n",
       "      <td>2864</td>\n",
       "      <td>0</td>\n",
       "      <td>2602</td>\n",
       "      <td>1087860</td>\n",
       "      <td>9</td>\n",
       "      <td>5</td>\n",
       "      <td>1238</td>\n",
       "      <td>0</td>\n",
       "      <td>75007</td>\n",
       "      <td>75</td>\n",
       "    </tr>\n",
       "    <tr>\n",
       "      <th>2</th>\n",
       "      <td>0.00</td>\n",
       "      <td>0.00</td>\n",
       "      <td>0.40</td>\n",
       "      <td>0.70</td>\n",
       "      <td>0.34</td>\n",
       "      <td>0.41</td>\n",
       "      <td>0.22</td>\n",
       "      <td>0.17</td>\n",
       "      <td>0.32</td>\n",
       "      <td>0.19</td>\n",
       "      <td>...</td>\n",
       "      <td>8837</td>\n",
       "      <td>2</td>\n",
       "      <td>50096</td>\n",
       "      <td>295300</td>\n",
       "      <td>20</td>\n",
       "      <td>4</td>\n",
       "      <td>1238</td>\n",
       "      <td>2</td>\n",
       "      <td>48246</td>\n",
       "      <td>72</td>\n",
       "    </tr>\n",
       "    <tr>\n",
       "      <th>3</th>\n",
       "      <td>1.00</td>\n",
       "      <td>0.37</td>\n",
       "      <td>0.69</td>\n",
       "      <td>0.40</td>\n",
       "      <td>0.24</td>\n",
       "      <td>0.20</td>\n",
       "      <td>0.07</td>\n",
       "      <td>0.17</td>\n",
       "      <td>0.21</td>\n",
       "      <td>0.09</td>\n",
       "      <td>...</td>\n",
       "      <td>4082</td>\n",
       "      <td>2</td>\n",
       "      <td>2602</td>\n",
       "      <td>580469</td>\n",
       "      <td>12</td>\n",
       "      <td>8</td>\n",
       "      <td>1238</td>\n",
       "      <td>2</td>\n",
       "      <td>62952</td>\n",
       "      <td>0</td>\n",
       "    </tr>\n",
       "    <tr>\n",
       "      <th>4</th>\n",
       "      <td>0.00</td>\n",
       "      <td>0.00</td>\n",
       "      <td>0.34</td>\n",
       "      <td>0.34</td>\n",
       "      <td>0.24</td>\n",
       "      <td>0.37</td>\n",
       "      <td>0.17</td>\n",
       "      <td>0.42</td>\n",
       "      <td>0.51</td>\n",
       "      <td>0.41</td>\n",
       "      <td>...</td>\n",
       "      <td>7503</td>\n",
       "      <td>2</td>\n",
       "      <td>43735</td>\n",
       "      <td>187581</td>\n",
       "      <td>20</td>\n",
       "      <td>9</td>\n",
       "      <td>1238</td>\n",
       "      <td>2</td>\n",
       "      <td>20793</td>\n",
       "      <td>75</td>\n",
       "    </tr>\n",
       "    <tr>\n",
       "      <th>5</th>\n",
       "      <td>0.00</td>\n",
       "      <td>0.00</td>\n",
       "      <td>0.16</td>\n",
       "      <td>0.70</td>\n",
       "      <td>0.00</td>\n",
       "      <td>0.36</td>\n",
       "      <td>0.39</td>\n",
       "      <td>0.17</td>\n",
       "      <td>0.32</td>\n",
       "      <td>0.35</td>\n",
       "      <td>...</td>\n",
       "      <td>11212</td>\n",
       "      <td>2</td>\n",
       "      <td>2602</td>\n",
       "      <td>1100828</td>\n",
       "      <td>12</td>\n",
       "      <td>8</td>\n",
       "      <td>338</td>\n",
       "      <td>1</td>\n",
       "      <td>71801</td>\n",
       "      <td>72</td>\n",
       "    </tr>\n",
       "    <tr>\n",
       "      <th>6</th>\n",
       "      <td>1.00</td>\n",
       "      <td>0.00</td>\n",
       "      <td>0.16</td>\n",
       "      <td>0.56</td>\n",
       "      <td>0.55</td>\n",
       "      <td>0.35</td>\n",
       "      <td>0.31</td>\n",
       "      <td>0.66</td>\n",
       "      <td>0.81</td>\n",
       "      <td>0.66</td>\n",
       "      <td>...</td>\n",
       "      <td>4090</td>\n",
       "      <td>2</td>\n",
       "      <td>15404</td>\n",
       "      <td>244999</td>\n",
       "      <td>12</td>\n",
       "      <td>3</td>\n",
       "      <td>1238</td>\n",
       "      <td>1</td>\n",
       "      <td>53181</td>\n",
       "      <td>48</td>\n",
       "    </tr>\n",
       "    <tr>\n",
       "      <th>7</th>\n",
       "      <td>1.00</td>\n",
       "      <td>0.00</td>\n",
       "      <td>0.49</td>\n",
       "      <td>0.16</td>\n",
       "      <td>0.29</td>\n",
       "      <td>0.36</td>\n",
       "      <td>0.20</td>\n",
       "      <td>0.61</td>\n",
       "      <td>0.64</td>\n",
       "      <td>0.59</td>\n",
       "      <td>...</td>\n",
       "      <td>1603</td>\n",
       "      <td>2</td>\n",
       "      <td>36866</td>\n",
       "      <td>654072</td>\n",
       "      <td>12</td>\n",
       "      <td>6</td>\n",
       "      <td>1091</td>\n",
       "      <td>1</td>\n",
       "      <td>15425</td>\n",
       "      <td>1</td>\n",
       "    </tr>\n",
       "    <tr>\n",
       "      <th>8</th>\n",
       "      <td>0.00</td>\n",
       "      <td>0.73</td>\n",
       "      <td>0.11</td>\n",
       "      <td>0.40</td>\n",
       "      <td>0.34</td>\n",
       "      <td>0.32</td>\n",
       "      <td>0.25</td>\n",
       "      <td>0.61</td>\n",
       "      <td>0.82</td>\n",
       "      <td>0.39</td>\n",
       "      <td>...</td>\n",
       "      <td>2801</td>\n",
       "      <td>2</td>\n",
       "      <td>45584</td>\n",
       "      <td>275921</td>\n",
       "      <td>9</td>\n",
       "      <td>9</td>\n",
       "      <td>1238</td>\n",
       "      <td>1</td>\n",
       "      <td>52401</td>\n",
       "      <td>0</td>\n",
       "    </tr>\n",
       "    <tr>\n",
       "      <th>9</th>\n",
       "      <td>0.00</td>\n",
       "      <td>0.91</td>\n",
       "      <td>0.31</td>\n",
       "      <td>0.25</td>\n",
       "      <td>0.49</td>\n",
       "      <td>0.25</td>\n",
       "      <td>0.21</td>\n",
       "      <td>0.63</td>\n",
       "      <td>0.72</td>\n",
       "      <td>0.38</td>\n",
       "      <td>...</td>\n",
       "      <td>7296</td>\n",
       "      <td>2</td>\n",
       "      <td>47160</td>\n",
       "      <td>530759</td>\n",
       "      <td>12</td>\n",
       "      <td>9</td>\n",
       "      <td>1131</td>\n",
       "      <td>1</td>\n",
       "      <td>39929</td>\n",
       "      <td>0</td>\n",
       "    </tr>\n",
       "  </tbody>\n",
       "</table>\n",
       "<p>10 rows × 26 columns</p>\n",
       "</div>"
      ],
      "text/plain": [
       "   Predicted    1    2    3    4    5    6    7    8    9  ...     20  22  \\\n",
       "0       0.00 0.52 0.14 0.64 0.15 0.20 0.14 0.26 0.21 0.14  ...   8322   2   \n",
       "1       0.00 0.37 0.18 0.85 0.00 0.62 0.23 0.00 0.36 0.38  ...   2864   0   \n",
       "2       0.00 0.00 0.40 0.70 0.34 0.41 0.22 0.17 0.32 0.19  ...   8837   2   \n",
       "3       1.00 0.37 0.69 0.40 0.24 0.20 0.07 0.17 0.21 0.09  ...   4082   2   \n",
       "4       0.00 0.00 0.34 0.34 0.24 0.37 0.17 0.42 0.51 0.41  ...   7503   2   \n",
       "5       0.00 0.00 0.16 0.70 0.00 0.36 0.39 0.17 0.32 0.35  ...  11212   2   \n",
       "6       1.00 0.00 0.16 0.56 0.55 0.35 0.31 0.66 0.81 0.66  ...   4090   2   \n",
       "7       1.00 0.00 0.49 0.16 0.29 0.36 0.20 0.61 0.64 0.59  ...   1603   2   \n",
       "8       0.00 0.73 0.11 0.40 0.34 0.32 0.25 0.61 0.82 0.39  ...   2801   2   \n",
       "9       0.00 0.91 0.31 0.25 0.49 0.25 0.21 0.63 0.72 0.38  ...   7296   2   \n",
       "\n",
       "      23       25  27  30    32  33     37  38  \n",
       "0  52546   538168   9   0  1238   0  17176  72  \n",
       "1   2602  1087860   9   5  1238   0  75007  75  \n",
       "2  50096   295300  20   4  1238   2  48246  72  \n",
       "3   2602   580469  12   8  1238   2  62952   0  \n",
       "4  43735   187581  20   9  1238   2  20793  75  \n",
       "5   2602  1100828  12   8   338   1  71801  72  \n",
       "6  15404   244999  12   3  1238   1  53181  48  \n",
       "7  36866   654072  12   6  1091   1  15425   1  \n",
       "8  45584   275921   9   9  1238   1  52401   0  \n",
       "9  47160   530759  12   9  1131   1  39929   0  \n",
       "\n",
       "[10 rows x 26 columns]"
      ]
     },
     "execution_count": 5,
     "metadata": {},
     "output_type": "execute_result"
    }
   ],
   "source": [
    "data.head(10)"
   ]
  },
  {
   "cell_type": "code",
   "execution_count": 8,
   "metadata": {},
   "outputs": [
    {
     "data": {
      "text/plain": [
       "Index(['Predicted', '1', '2', '3', '4', '5', '6', '7', '8', '9', '10', '11',\n",
       "       '13', '15', '17', '19', '20', '22', '23', '25', '27', '30', '32', '33',\n",
       "       '37', '38'],\n",
       "      dtype='object')"
      ]
     },
     "execution_count": 8,
     "metadata": {},
     "output_type": "execute_result"
    }
   ],
   "source": [
    "data.columns"
   ]
  },
  {
   "cell_type": "markdown",
   "metadata": {},
   "source": [
    "## <span style=\"color:grey; font-weight:bold;\">Removed Outlier</span>"
   ]
  },
  {
   "cell_type": "code",
   "execution_count": 12,
   "metadata": {},
   "outputs": [],
   "source": [
    "output_data_path = \"/Users/porter/Desktop/01.Data Science/Porter - Project/05 - Advertising Challenge - Data Analysis/01_Data/Further Feature Selected\"\n",
    "os.chdir(output_data_path)"
   ]
  },
  {
   "cell_type": "code",
   "execution_count": 13,
   "metadata": {},
   "outputs": [
    {
     "data": {
      "text/plain": [
       "['Predicted',\n",
       " '15',\n",
       " '17',\n",
       " '19',\n",
       " '20',\n",
       " '22',\n",
       " '23',\n",
       " '25',\n",
       " '27',\n",
       " '30',\n",
       " '32',\n",
       " '33',\n",
       " '37',\n",
       " '38']"
      ]
     },
     "execution_count": 13,
     "metadata": {},
     "output_type": "execute_result"
    }
   ],
   "source": [
    "obj_columns = data.iloc[:, 13:26].columns\n",
    "label_columns = data[[\"Predicted\"]].columns\n",
    "exclude_columns = label_columns.tolist() + obj_columns.tolist()\n",
    "exclude_columns"
   ]
  },
  {
   "cell_type": "code",
   "execution_count": 14,
   "metadata": {},
   "outputs": [
    {
     "name": "stdout",
     "output_type": "stream",
     "text": [
      "Original Shape: (20945536, 26)\n",
      "After Removing Outlier Shape: (9864187, 26)\n",
      "\n",
      "Original Shape: (20945536, 26)\n",
      "After Removing Outlier Shape: (15978195, 26)\n",
      "\n"
     ]
    }
   ],
   "source": [
    "remove04_data = ed.ExtremeRemoveOutlier(data, lower_quantile=0.04, upper_quantile=0.96, exclude=exclude_columns)\n",
    "remove02_data = ed.ExtremeRemoveOutlier(data, lower_quantile=0.02, upper_quantile=0.98, exclude=exclude_columns)"
   ]
  },
  {
   "cell_type": "code",
   "execution_count": 20,
   "metadata": {},
   "outputs": [
    {
     "name": "stdout",
     "output_type": "stream",
     "text": [
      "Predicted\n",
      "0.00    78.93%\n",
      "1.00    21.07%\n",
      "Name: proportion, dtype: object\n",
      "Predicted\n",
      "0.00    76.03%\n",
      "1.00    23.97%\n",
      "Name: proportion, dtype: object\n"
     ]
    }
   ],
   "source": [
    "ed.LabelValueCount(remove04_data, target=\"Predicted\")\n",
    "ed.LabelValueCount(remove02_data, target=\"Predicted\")"
   ]
  },
  {
   "cell_type": "code",
   "execution_count": 21,
   "metadata": {},
   "outputs": [
    {
     "name": "stdout",
     "output_type": "stream",
     "text": [
      "Saved Top70ColumnsRemove004\n",
      "Saved Top70ColumnsRemove002\n"
     ]
    }
   ],
   "source": [
    "ed.SaveCSV(remove04_data, \"Top70ColumnsRemove004\")\n",
    "ed.SaveCSV(remove02_data, \"Top70ColumnsRemove002\")"
   ]
  },
  {
   "cell_type": "markdown",
   "metadata": {},
   "source": [
    "## <span style=\"color:grey; font-weight:bold;\">Numerical PCA</span>"
   ]
  },
  {
   "cell_type": "code",
   "execution_count": 4,
   "metadata": {},
   "outputs": [],
   "source": [
    "num_col = data.iloc[:, 1:13]\n",
    "obj_columns = data.iloc[:, 13:26].columns\n",
    "obj_col = data[obj_columns]\n",
    "\n",
    "num_pca10 = ed.PCAdecomposition(num_col, n_components=10)\n",
    "num_pca8 = ed.PCAdecomposition(num_col, n_components=8)\n",
    "\n",
    "num_pca10_df = pd.DataFrame(num_pca10, index=data.index)\n",
    "num_pca8_df = pd.DataFrame(num_pca8, index=data.index)\n",
    "\n",
    "data_pca10 = pd.concat([data[\"Predicted\"],\n",
    "                         num_pca10_df,\n",
    "                         obj_col], axis=1)\n",
    "data_pca8 = pd.concat([data[\"Predicted\"],\n",
    "                         num_pca8_df,\n",
    "                         obj_col], axis=1)"
   ]
  },
  {
   "cell_type": "code",
   "execution_count": 9,
   "metadata": {},
   "outputs": [
    {
     "name": "stdout",
     "output_type": "stream",
     "text": [
      "Saved Top70Columns_PCA5\n",
      "Saved Top70Columns_PCA3\n"
     ]
    }
   ],
   "source": [
    "ed.SaveCSV(data_pca10, \"Top70Columns_PCA10\")\n",
    "ed.SaveCSV(data_pca8, \"Top70Columns_PCA8\")"
   ]
  }
 ],
 "metadata": {
  "kernelspec": {
   "display_name": "base",
   "language": "python",
   "name": "python3"
  },
  "language_info": {
   "codemirror_mode": {
    "name": "ipython",
    "version": 3
   },
   "file_extension": ".py",
   "mimetype": "text/x-python",
   "name": "python",
   "nbconvert_exporter": "python",
   "pygments_lexer": "ipython3",
   "version": "3.12.3"
  }
 },
 "nbformat": 4,
 "nbformat_minor": 2
}
