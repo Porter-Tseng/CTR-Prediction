{
 "cells": [
  {
   "cell_type": "markdown",
   "metadata": {},
   "source": [
    "## <span style=\"color:grey; font-weight:bold;\">Import Tools and Def Functions</span>"
   ]
  },
  {
   "cell_type": "code",
   "execution_count": 2,
   "metadata": {},
   "outputs": [],
   "source": [
    "import pandas as pd\n",
    "import importlib\n",
    "import os\n",
    "\n",
    "pd.set_option(\"display.float_format\", \"{:.2f}\".format)\n",
    "\n",
    "def_path = \"/Users/porter/Desktop/01.Data Science/Porter - Project/05 - Advertising Challenge - Data Analysis\"\n",
    "os.chdir(def_path)\n",
    "import Def_Function\n",
    "importlib.reload(Def_Function)\n",
    "ed = Def_Function.EDAFunction()\n",
    "\n",
    "data_path = \"/Users/porter/Desktop/01.Data Science/Porter - Project/05 - Advertising Challenge - Data Analysis/00_Data/Filled Chunk\"\n",
    "os.chdir(data_path)"
   ]
  },
  {
   "cell_type": "markdown",
   "metadata": {},
   "source": [
    "## <span style=\"color:grey; font-weight:bold;\">Merge All Chunk</span>"
   ]
  },
  {
   "cell_type": "code",
   "execution_count": 2,
   "metadata": {},
   "outputs": [
    {
     "name": "stdout",
     "output_type": "stream",
     "text": [
      "Filled Chunk1.csv is Loaded\n",
      "Filled Chunk2.csv is Loaded\n",
      "Filled Chunk3.csv is Loaded\n",
      "Filled Chunk4.csv is Loaded\n",
      "Filled Chunk5.csv is Loaded\n",
      "Filled Chunk6.csv is Loaded\n",
      "Filled Chunk7.csv is Loaded\n",
      "Filled Chunk8.csv is Loaded\n",
      "Filled Chunk9.csv is Loaded\n",
      "Filled Chunk10.csv is Loaded\n",
      "All Chunk is Read and Merged\n",
      "\n"
     ]
    }
   ],
   "source": [
    "data = ed.ReadandMergeAllChunk(10)"
   ]
  },
  {
   "cell_type": "code",
   "execution_count": 16,
   "metadata": {},
   "outputs": [
    {
     "name": "stdout",
     "output_type": "stream",
     "text": [
      "Saved Filled All Chunk\n"
     ]
    }
   ],
   "source": [
    "ed.SaveCSV(data, \"Filled All Chunk\")"
   ]
  },
  {
   "cell_type": "markdown",
   "metadata": {},
   "source": [
    "## <span style=\"color:grey; font-weight:bold;\">Feature Selected</span>"
   ]
  },
  {
   "cell_type": "code",
   "execution_count": 5,
   "metadata": {},
   "outputs": [],
   "source": [
    "data = pd.read_csv(\"Filled All Chunk.csv\", sep=\",\")"
   ]
  },
  {
   "cell_type": "code",
   "execution_count": 8,
   "metadata": {},
   "outputs": [
    {
     "data": {
      "text/plain": [
       "(20945536, 38)"
      ]
     },
     "execution_count": 8,
     "metadata": {},
     "output_type": "execute_result"
    }
   ],
   "source": [
    "data.shape"
   ]
  },
  {
   "cell_type": "code",
   "execution_count": 9,
   "metadata": {},
   "outputs": [
    {
     "name": "stdout",
     "output_type": "stream",
     "text": [
      "Predicted\n",
      "0.00    75.15%\n",
      "1.00    24.85%\n",
      "Name: proportion, dtype: object\n"
     ]
    }
   ],
   "source": [
    "ed.LabelValueCount(data, target=\"Predicted\")"
   ]
  },
  {
   "cell_type": "markdown",
   "metadata": {},
   "source": [
    "## <span style=\"color:grey; font-weight:bold;\">Random Forest</span>"
   ]
  },
  {
   "cell_type": "code",
   "execution_count": 7,
   "metadata": {},
   "outputs": [
    {
     "name": "stdout",
     "output_type": "stream",
     "text": [
      "Top Feature for 30 Estimators:\n",
      "6    0.09\n",
      "5    0.04\n",
      "3    0.04\n",
      "20   0.04\n",
      "9    0.04\n",
      "23   0.04\n",
      "26   0.04\n",
      "2    0.04\n",
      "24   0.04\n",
      "11   0.04\n",
      "\n"
     ]
    }
   ],
   "source": [
    "estimator_list = [30]\n",
    "feature_dict = ed.RandomForestFeature(data, estimator_list=estimator_list)"
   ]
  },
  {
   "cell_type": "code",
   "execution_count": 32,
   "metadata": {},
   "outputs": [
    {
     "data": {
      "text/html": [
       "<div>\n",
       "<style scoped>\n",
       "    .dataframe tbody tr th:only-of-type {\n",
       "        vertical-align: middle;\n",
       "    }\n",
       "\n",
       "    .dataframe tbody tr th {\n",
       "        vertical-align: top;\n",
       "    }\n",
       "\n",
       "    .dataframe thead th {\n",
       "        text-align: right;\n",
       "    }\n",
       "</style>\n",
       "<table border=\"1\" class=\"dataframe\">\n",
       "  <thead>\n",
       "    <tr style=\"text-align: right;\">\n",
       "      <th></th>\n",
       "      <th>Predicted</th>\n",
       "      <th>2</th>\n",
       "      <th>3</th>\n",
       "      <th>5</th>\n",
       "      <th>6</th>\n",
       "      <th>9</th>\n",
       "      <th>11</th>\n",
       "      <th>20</th>\n",
       "      <th>23</th>\n",
       "      <th>24</th>\n",
       "      <th>26</th>\n",
       "    </tr>\n",
       "  </thead>\n",
       "  <tbody>\n",
       "    <tr>\n",
       "      <th>0</th>\n",
       "      <td>0.00</td>\n",
       "      <td>0.14</td>\n",
       "      <td>0.64</td>\n",
       "      <td>0.20</td>\n",
       "      <td>0.14</td>\n",
       "      <td>0.14</td>\n",
       "      <td>0.30</td>\n",
       "      <td>8322</td>\n",
       "      <td>52546</td>\n",
       "      <td>643</td>\n",
       "      <td>1825</td>\n",
       "    </tr>\n",
       "    <tr>\n",
       "      <th>1</th>\n",
       "      <td>0.00</td>\n",
       "      <td>0.18</td>\n",
       "      <td>0.85</td>\n",
       "      <td>0.62</td>\n",
       "      <td>0.23</td>\n",
       "      <td>0.38</td>\n",
       "      <td>0.00</td>\n",
       "      <td>2864</td>\n",
       "      <td>2602</td>\n",
       "      <td>1772</td>\n",
       "      <td>880</td>\n",
       "    </tr>\n",
       "    <tr>\n",
       "      <th>2</th>\n",
       "      <td>0.00</td>\n",
       "      <td>0.40</td>\n",
       "      <td>0.70</td>\n",
       "      <td>0.41</td>\n",
       "      <td>0.22</td>\n",
       "      <td>0.19</td>\n",
       "      <td>0.30</td>\n",
       "      <td>8837</td>\n",
       "      <td>50096</td>\n",
       "      <td>2992</td>\n",
       "      <td>1244</td>\n",
       "    </tr>\n",
       "    <tr>\n",
       "      <th>3</th>\n",
       "      <td>1.00</td>\n",
       "      <td>0.69</td>\n",
       "      <td>0.40</td>\n",
       "      <td>0.20</td>\n",
       "      <td>0.07</td>\n",
       "      <td>0.09</td>\n",
       "      <td>0.30</td>\n",
       "      <td>4082</td>\n",
       "      <td>2602</td>\n",
       "      <td>234</td>\n",
       "      <td>914</td>\n",
       "    </tr>\n",
       "    <tr>\n",
       "      <th>4</th>\n",
       "      <td>0.00</td>\n",
       "      <td>0.34</td>\n",
       "      <td>0.34</td>\n",
       "      <td>0.37</td>\n",
       "      <td>0.17</td>\n",
       "      <td>0.41</td>\n",
       "      <td>0.30</td>\n",
       "      <td>7503</td>\n",
       "      <td>43735</td>\n",
       "      <td>3022</td>\n",
       "      <td>2437</td>\n",
       "    </tr>\n",
       "    <tr>\n",
       "      <th>...</th>\n",
       "      <td>...</td>\n",
       "      <td>...</td>\n",
       "      <td>...</td>\n",
       "      <td>...</td>\n",
       "      <td>...</td>\n",
       "      <td>...</td>\n",
       "      <td>...</td>\n",
       "      <td>...</td>\n",
       "      <td>...</td>\n",
       "      <td>...</td>\n",
       "      <td>...</td>\n",
       "    </tr>\n",
       "    <tr>\n",
       "      <th>20945531</th>\n",
       "      <td>0.00</td>\n",
       "      <td>0.31</td>\n",
       "      <td>0.52</td>\n",
       "      <td>0.42</td>\n",
       "      <td>0.30</td>\n",
       "      <td>0.43</td>\n",
       "      <td>0.00</td>\n",
       "      <td>7717</td>\n",
       "      <td>54080</td>\n",
       "      <td>5593</td>\n",
       "      <td>4467</td>\n",
       "    </tr>\n",
       "    <tr>\n",
       "      <th>20945532</th>\n",
       "      <td>1.00</td>\n",
       "      <td>0.14</td>\n",
       "      <td>0.58</td>\n",
       "      <td>0.18</td>\n",
       "      <td>0.35</td>\n",
       "      <td>0.34</td>\n",
       "      <td>0.43</td>\n",
       "      <td>22478</td>\n",
       "      <td>84511</td>\n",
       "      <td>10236</td>\n",
       "      <td>3070</td>\n",
       "    </tr>\n",
       "    <tr>\n",
       "      <th>20945533</th>\n",
       "      <td>0.00</td>\n",
       "      <td>0.26</td>\n",
       "      <td>0.60</td>\n",
       "      <td>0.40</td>\n",
       "      <td>0.30</td>\n",
       "      <td>0.33</td>\n",
       "      <td>0.29</td>\n",
       "      <td>14164</td>\n",
       "      <td>54080</td>\n",
       "      <td>8264</td>\n",
       "      <td>5899</td>\n",
       "    </tr>\n",
       "    <tr>\n",
       "      <th>20945534</th>\n",
       "      <td>0.00</td>\n",
       "      <td>0.07</td>\n",
       "      <td>0.37</td>\n",
       "      <td>0.59</td>\n",
       "      <td>0.31</td>\n",
       "      <td>0.33</td>\n",
       "      <td>0.29</td>\n",
       "      <td>580</td>\n",
       "      <td>120867</td>\n",
       "      <td>1723</td>\n",
       "      <td>4837</td>\n",
       "    </tr>\n",
       "    <tr>\n",
       "      <th>20945535</th>\n",
       "      <td>0.00</td>\n",
       "      <td>0.31</td>\n",
       "      <td>0.33</td>\n",
       "      <td>0.46</td>\n",
       "      <td>0.28</td>\n",
       "      <td>0.34</td>\n",
       "      <td>0.61</td>\n",
       "      <td>20377</td>\n",
       "      <td>142419</td>\n",
       "      <td>7711</td>\n",
       "      <td>4499</td>\n",
       "    </tr>\n",
       "  </tbody>\n",
       "</table>\n",
       "<p>20945536 rows × 11 columns</p>\n",
       "</div>"
      ],
      "text/plain": [
       "          Predicted    2    3    5    6    9   11     20      23     24    26\n",
       "0              0.00 0.14 0.64 0.20 0.14 0.14 0.30   8322   52546    643  1825\n",
       "1              0.00 0.18 0.85 0.62 0.23 0.38 0.00   2864    2602   1772   880\n",
       "2              0.00 0.40 0.70 0.41 0.22 0.19 0.30   8837   50096   2992  1244\n",
       "3              1.00 0.69 0.40 0.20 0.07 0.09 0.30   4082    2602    234   914\n",
       "4              0.00 0.34 0.34 0.37 0.17 0.41 0.30   7503   43735   3022  2437\n",
       "...             ...  ...  ...  ...  ...  ...  ...    ...     ...    ...   ...\n",
       "20945531       0.00 0.31 0.52 0.42 0.30 0.43 0.00   7717   54080   5593  4467\n",
       "20945532       1.00 0.14 0.58 0.18 0.35 0.34 0.43  22478   84511  10236  3070\n",
       "20945533       0.00 0.26 0.60 0.40 0.30 0.33 0.29  14164   54080   8264  5899\n",
       "20945534       0.00 0.07 0.37 0.59 0.31 0.33 0.29    580  120867   1723  4837\n",
       "20945535       0.00 0.31 0.33 0.46 0.28 0.34 0.61  20377  142419   7711  4499\n",
       "\n",
       "[20945536 rows x 11 columns]"
      ]
     },
     "execution_count": 32,
     "metadata": {},
     "output_type": "execute_result"
    }
   ],
   "source": [
    "randomforest_selected_10 = feature_dict[30].head(10).keys()\n",
    "sorted_columns_10 = sorted(randomforest_selected_10, key=int)\n",
    "randomforest_feature_10 = pd.concat([data[\"Predicted\"], data[sorted_columns_10]], axis=1)\n",
    "randomforest_feature_10"
   ]
  },
  {
   "cell_type": "code",
   "execution_count": 33,
   "metadata": {},
   "outputs": [
    {
     "data": {
      "text/html": [
       "<div>\n",
       "<style scoped>\n",
       "    .dataframe tbody tr th:only-of-type {\n",
       "        vertical-align: middle;\n",
       "    }\n",
       "\n",
       "    .dataframe tbody tr th {\n",
       "        vertical-align: top;\n",
       "    }\n",
       "\n",
       "    .dataframe thead th {\n",
       "        text-align: right;\n",
       "    }\n",
       "</style>\n",
       "<table border=\"1\" class=\"dataframe\">\n",
       "  <thead>\n",
       "    <tr style=\"text-align: right;\">\n",
       "      <th></th>\n",
       "      <th>Predicted</th>\n",
       "      <th>3</th>\n",
       "      <th>5</th>\n",
       "      <th>6</th>\n",
       "      <th>9</th>\n",
       "      <th>20</th>\n",
       "    </tr>\n",
       "  </thead>\n",
       "  <tbody>\n",
       "    <tr>\n",
       "      <th>0</th>\n",
       "      <td>0.00</td>\n",
       "      <td>0.64</td>\n",
       "      <td>0.20</td>\n",
       "      <td>0.14</td>\n",
       "      <td>0.14</td>\n",
       "      <td>8322</td>\n",
       "    </tr>\n",
       "    <tr>\n",
       "      <th>1</th>\n",
       "      <td>0.00</td>\n",
       "      <td>0.85</td>\n",
       "      <td>0.62</td>\n",
       "      <td>0.23</td>\n",
       "      <td>0.38</td>\n",
       "      <td>2864</td>\n",
       "    </tr>\n",
       "    <tr>\n",
       "      <th>2</th>\n",
       "      <td>0.00</td>\n",
       "      <td>0.70</td>\n",
       "      <td>0.41</td>\n",
       "      <td>0.22</td>\n",
       "      <td>0.19</td>\n",
       "      <td>8837</td>\n",
       "    </tr>\n",
       "    <tr>\n",
       "      <th>3</th>\n",
       "      <td>1.00</td>\n",
       "      <td>0.40</td>\n",
       "      <td>0.20</td>\n",
       "      <td>0.07</td>\n",
       "      <td>0.09</td>\n",
       "      <td>4082</td>\n",
       "    </tr>\n",
       "    <tr>\n",
       "      <th>4</th>\n",
       "      <td>0.00</td>\n",
       "      <td>0.34</td>\n",
       "      <td>0.37</td>\n",
       "      <td>0.17</td>\n",
       "      <td>0.41</td>\n",
       "      <td>7503</td>\n",
       "    </tr>\n",
       "    <tr>\n",
       "      <th>...</th>\n",
       "      <td>...</td>\n",
       "      <td>...</td>\n",
       "      <td>...</td>\n",
       "      <td>...</td>\n",
       "      <td>...</td>\n",
       "      <td>...</td>\n",
       "    </tr>\n",
       "    <tr>\n",
       "      <th>20945531</th>\n",
       "      <td>0.00</td>\n",
       "      <td>0.52</td>\n",
       "      <td>0.42</td>\n",
       "      <td>0.30</td>\n",
       "      <td>0.43</td>\n",
       "      <td>7717</td>\n",
       "    </tr>\n",
       "    <tr>\n",
       "      <th>20945532</th>\n",
       "      <td>1.00</td>\n",
       "      <td>0.58</td>\n",
       "      <td>0.18</td>\n",
       "      <td>0.35</td>\n",
       "      <td>0.34</td>\n",
       "      <td>22478</td>\n",
       "    </tr>\n",
       "    <tr>\n",
       "      <th>20945533</th>\n",
       "      <td>0.00</td>\n",
       "      <td>0.60</td>\n",
       "      <td>0.40</td>\n",
       "      <td>0.30</td>\n",
       "      <td>0.33</td>\n",
       "      <td>14164</td>\n",
       "    </tr>\n",
       "    <tr>\n",
       "      <th>20945534</th>\n",
       "      <td>0.00</td>\n",
       "      <td>0.37</td>\n",
       "      <td>0.59</td>\n",
       "      <td>0.31</td>\n",
       "      <td>0.33</td>\n",
       "      <td>580</td>\n",
       "    </tr>\n",
       "    <tr>\n",
       "      <th>20945535</th>\n",
       "      <td>0.00</td>\n",
       "      <td>0.33</td>\n",
       "      <td>0.46</td>\n",
       "      <td>0.28</td>\n",
       "      <td>0.34</td>\n",
       "      <td>20377</td>\n",
       "    </tr>\n",
       "  </tbody>\n",
       "</table>\n",
       "<p>20945536 rows × 6 columns</p>\n",
       "</div>"
      ],
      "text/plain": [
       "          Predicted    3    5    6    9     20\n",
       "0              0.00 0.64 0.20 0.14 0.14   8322\n",
       "1              0.00 0.85 0.62 0.23 0.38   2864\n",
       "2              0.00 0.70 0.41 0.22 0.19   8837\n",
       "3              1.00 0.40 0.20 0.07 0.09   4082\n",
       "4              0.00 0.34 0.37 0.17 0.41   7503\n",
       "...             ...  ...  ...  ...  ...    ...\n",
       "20945531       0.00 0.52 0.42 0.30 0.43   7717\n",
       "20945532       1.00 0.58 0.18 0.35 0.34  22478\n",
       "20945533       0.00 0.60 0.40 0.30 0.33  14164\n",
       "20945534       0.00 0.37 0.59 0.31 0.33    580\n",
       "20945535       0.00 0.33 0.46 0.28 0.34  20377\n",
       "\n",
       "[20945536 rows x 6 columns]"
      ]
     },
     "execution_count": 33,
     "metadata": {},
     "output_type": "execute_result"
    }
   ],
   "source": [
    "randomforest_selected_5 = feature_dict[30].head(5).keys()\n",
    "sorted_columns_5 = sorted(randomforest_selected_5, key=int)\n",
    "randomforest_feature_5 = pd.concat([data[\"Predicted\"], data[sorted_columns_5]], axis=1)\n",
    "randomforest_feature_5"
   ]
  },
  {
   "cell_type": "code",
   "execution_count": 34,
   "metadata": {},
   "outputs": [
    {
     "name": "stdout",
     "output_type": "stream",
     "text": [
      "Saved RandomForest_Top10Feature\n",
      "Saved RandomForest_Top5Feature\n"
     ]
    }
   ],
   "source": [
    "ed.SaveCSV(randomforest_feature_10, \"RandomForest_Top10Feature\")\n",
    "ed.SaveCSV(randomforest_feature_5, \"RandomForest_Top5Feature\")"
   ]
  }
 ],
 "metadata": {
  "kernelspec": {
   "display_name": "base",
   "language": "python",
   "name": "python3"
  },
  "language_info": {
   "codemirror_mode": {
    "name": "ipython",
    "version": 3
   },
   "file_extension": ".py",
   "mimetype": "text/x-python",
   "name": "python",
   "nbconvert_exporter": "python",
   "pygments_lexer": "ipython3",
   "version": "3.11.11"
  }
 },
 "nbformat": 4,
 "nbformat_minor": 2
}
